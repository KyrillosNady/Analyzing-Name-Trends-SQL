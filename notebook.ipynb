{
 "cells": [
  {
   "cell_type": "markdown",
   "metadata": {
    "dc": {
     "key": "8"
    },
    "deletable": false,
    "editable": false,
    "run_control": {
     "frozen": true
    },
    "tags": [
     "context"
    ]
   },
   "source": [
    "## 1. Classic American names\n",
    "<p><img src=\"https://assets.datacamp.com/production/project_1441/img/name.jpg\" alt=\"Lots of name tags piled on top of each other.\" width=\"600\"></p>\n",
    "<p>Photo by Travis Wise on <a href=\"https://commons.wikimedia.org/wiki/File:Hello_My_Name_Is_(15283079263).jpg\">Wikimedia</a>.</p>\n",
    "<p>How have American baby name tastes changed since 1920?  Which names have remained popular for over 100 years, and how do those names compare to more recent top baby names? These are considerations for many new parents, but the skills we'll practice while answering these queries are broadly applicable. After all, understanding trends and popularity is important for many businesses, too! </p>\n",
    "<p>We'll be working with data provided by the United States Social Security Administration, which lists first names along with the number and sex of babies they were given to in each year. For processing speed purposes, we've limited the dataset to first names which were given to over 5,000 American babies in a given year. Our data spans 101 years, from 1920 through 2020.</p>\n",
    "<h3 id=\"baby_names\"><code>baby_names</code></h3>\n",
    "<table>\n",
    "<thead>\n",
    "<tr>\n",
    "<th style=\"text-align:left;\">column</th>\n",
    "<th>type</th>\n",
    "<th>meaning</th>\n",
    "</tr>\n",
    "</thead>\n",
    "<tbody>\n",
    "<tr>\n",
    "<td style=\"text-align:left;\"><code>year</code></td>\n",
    "<td>int</td>\n",
    "<td>year</td>\n",
    "</tr>\n",
    "<tr>\n",
    "<td style=\"text-align:left;\"><code>first_name</code></td>\n",
    "<td>varchar</td>\n",
    "<td>first name</td>\n",
    "</tr>\n",
    "<tr>\n",
    "<td style=\"text-align:left;\"><code>sex</code></td>\n",
    "<td>varchar</td>\n",
    "<td><code>sex</code> of babies given <code>first_name</code></td>\n",
    "</tr>\n",
    "<tr>\n",
    "<td style=\"text-align:left;\"><code>num</code></td>\n",
    "<td>int</td>\n",
    "<td>number of babies of <code>sex</code> given <code>first_name</code> in that <code>year</code></td>\n",
    "</tr>\n",
    "</tbody>\n",
    "</table>\n",
    "<p>Let's get oriented to American baby name tastes by looking at the names that have stood the test of time!</p>"
   ]
  },
  {
   "cell_type": "code",
   "execution_count": 1,
   "metadata": {
    "dc": {
     "key": "8"
    },
    "tags": [
     "sample_code"
    ]
   },
   "outputs": [
    {
     "name": "stderr",
     "output_type": "stream",
     "text": [
      "UsageError: Cell magic `%%sql` not found.\n"
     ]
    }
   ],
   "source": [
    "%%sql\n",
    "postgresql:///names\n",
    " \n",
    "\n",
    "SELECT first_name, SUM(num)\n",
    "FROM baby_names\n",
    "GROUP BY first_name \n",
    "HAVING COUNT(year) = 101\n",
    "ORDER BY SUM(num) DESC;"
   ]
  },
  {
   "cell_type": "markdown",
   "metadata": {
    "dc": {
     "key": "15"
    },
    "deletable": false,
    "editable": false,
    "run_control": {
     "frozen": true
    },
    "tags": [
     "context"
    ]
   },
   "source": [
    "## 2. Timeless or trendy?\n",
    "<p>Wow, it looks like there are a lot of timeless traditionally male names! Elizabeth is holding her own for the female names, too. </p>\n",
    "<p>Now, let's broaden our understanding of the dataset by looking at all names. We'll attempt to capture the type of popularity that each name in the dataset enjoyed. Was the name classic and popular across many years or trendy, only popular for a few years? Let's find out. </p>"
   ]
  },
  {
   "cell_type": "code",
   "execution_count": null,
   "metadata": {
    "dc": {
     "key": "15"
    },
    "tags": [
     "sample_code"
    ]
   },
   "outputs": [],
   "source": [
    "%%sql\n",
    "\n",
    "\n",
    "SELECT first_name, \n",
    "       SUM(num), \n",
    "       CASE WHEN COUNT(year) >= 80 THEN 'Classic'\n",
    "            WHEN COUNT(year) >= 50 THEN 'Semi-classic'\n",
    "            WHEN COUNT(year) >= 20 THEN 'Semi-trendy'\n",
    "            ELSE 'Trendy'\n",
    "        END AS popularity_type\n",
    "FROM baby_names \n",
    "GROUP BY first_name\n",
    "ORDER BY first_name;"
   ]
  },
  {
   "cell_type": "markdown",
   "metadata": {
    "dc": {
     "key": "22"
    },
    "deletable": false,
    "editable": false,
    "run_control": {
     "frozen": true
    },
    "tags": [
     "context"
    ]
   },
   "source": [
    "## 3. Top-ranked female names since 1920\n",
    "<p>Did you find your favorite American celebrity's name on the popularity chart? Was it classic or trendy? How do you think the name Henry did? What about Jaxon?</p>\n",
    "<p>Since we didn't get many traditionally female names in our classic American names search in the first task, let's limit our search to names which were given to female babies. </p>\n",
    "<p>We can use this opportunity to practice window functions by assigning a rank to female names based on the number of babies that have ever been given that name. What are the top-ranked female names since 1920?</p>"
   ]
  },
  {
   "cell_type": "code",
   "execution_count": null,
   "metadata": {
    "dc": {
     "key": "22"
    },
    "tags": [
     "sample_code"
    ]
   },
   "outputs": [],
   "source": [
    "%%sql\n",
    "\n",
    "\n",
    "SELECT RANK() OVER(ORDER BY SUM(num) DESC) AS name_rank,\n",
    "       first_name, \n",
    "       SUM(num) \n",
    "FROM baby_names\n",
    "WHERE sex = 'F'\n",
    "GROUP BY 2\n",
    "LIMIT 10;"
   ]
  },
  {
   "cell_type": "markdown",
   "metadata": {
    "dc": {
     "key": "29"
    },
    "deletable": false,
    "editable": false,
    "run_control": {
     "frozen": true
    },
    "tags": [
     "context"
    ]
   },
   "source": [
    "## 4. Picking a baby name\n",
    "<p>Perhaps a friend has heard of our work analyzing baby names and would like help choosing a name for her baby, a girl. She doesn't like any of the top-ranked names we found in the previous task. </p>\n",
    "<p>She's set on a traditionally female name ending in the letter 'a' since she's heard that vowels in baby names are trendy. She's also looking for a name that has been popular in the years since 2015. </p>\n",
    "<p>Let's see what we can do to find some options for this friend!</p>"
   ]
  },
  {
   "cell_type": "code",
   "execution_count": null,
   "metadata": {
    "dc": {
     "key": "29"
    },
    "tags": [
     "sample_code"
    ]
   },
   "outputs": [],
   "source": [
    "%%sql\n",
    "\n",
    "\n",
    "SELECT first_name\n",
    "FROM baby_names\n",
    "WHERE sex = 'F' \n",
    "    AND year > 2015 \n",
    "    AND first_name LIKE '%a'\n",
    "GROUP BY first_name\n",
    "ORDER BY SUM(num) DESC;"
   ]
  },
  {
   "cell_type": "markdown",
   "metadata": {
    "dc": {
     "key": "36"
    },
    "deletable": false,
    "editable": false,
    "run_control": {
     "frozen": true
    },
    "tags": [
     "context"
    ]
   },
   "source": [
    "## 5. The Olivia expansion\n",
    "<p>Based on the results in the previous task, we can see that Olivia is the most popular female name ending in 'A' since 2015. When did the name Olivia become so popular?</p>\n",
    "<p>Let's explore the rise of the name Olivia with the help of a window function.</p>"
   ]
  },
  {
   "cell_type": "code",
   "execution_count": null,
   "metadata": {
    "dc": {
     "key": "36"
    },
    "tags": [
     "sample_code"
    ]
   },
   "outputs": [],
   "source": [
    "%%sql\n",
    "\n",
    "\n",
    "SELECT year, \n",
    "       first_name, \n",
    "       num, \n",
    "       SUM(num) OVER(ORDER BY year) cumulative_olivias\n",
    "FROM baby_names\n",
    "WHERE first_name = 'Olivia'\n",
    "ORDER BY year;"
   ]
  },
  {
   "cell_type": "markdown",
   "metadata": {
    "dc": {
     "key": "43"
    },
    "deletable": false,
    "editable": false,
    "run_control": {
     "frozen": true
    },
    "tags": [
     "context"
    ]
   },
   "source": [
    "## 6. Many males with the same name\n",
    "<p>Wow, Olivia has had a meteoric rise! Let's take a look at traditionally male names now. We saw in the first task that there are nine traditionally male names given to at least 5,000 babies every single year in our 101-year dataset! Those names are classics, but showing up in the dataset every year doesn't necessarily mean that the timeless names were the most popular. Let's explore popular male names a little further.</p>\n",
    "<p>In the next two tasks, we will build up to listing every year along with the most popular male name in that year. This presents a common problem: how do we find the greatest X in a group? Or, in the context of this problem, how do we find the male name given to the highest number of babies in a year? </p>\n",
    "<p>In SQL, one approach is to use a subquery. We can first write a query that selects the <code>year</code> and the maximum <code>num</code> of babies given any single male name in that year. For example, in 1989, the male name given to the highest number of babies was given to 65,339 babies. We'll write this query in this task. In the next task, we can use the code from this task as a subquery to look up the <code>first_name</code> that was given to 65,339 babies in 1989… as well as the top male first name for all other years!</p>"
   ]
  },
  {
   "cell_type": "code",
   "execution_count": null,
   "metadata": {
    "dc": {
     "key": "43"
    },
    "tags": [
     "sample_code"
    ]
   },
   "outputs": [],
   "source": [
    "%%sql\n",
    "\n",
    "\n",
    "SELECT year, MAX(num) max_num\n",
    "FROM baby_names\n",
    "WHERE sex = 'M'\n",
    "GROUP BY year;"
   ]
  },
  {
   "cell_type": "markdown",
   "metadata": {
    "dc": {
     "key": "50"
    },
    "deletable": false,
    "editable": false,
    "run_control": {
     "frozen": true
    },
    "tags": [
     "context"
    ]
   },
   "source": [
    "## 7. Top male names over the years\n",
    "<p>In the previous task, we found the maximum number of babies given any one male name in each year. Incredibly, the most popular name each year varied from being given to less than 20,000 babies to being given to more than 90,000! </p>\n",
    "<p>In this task, we find out what that top male name is for each year in our dataset. </p>"
   ]
  },
  {
   "cell_type": "code",
   "execution_count": null,
   "metadata": {
    "dc": {
     "key": "50"
    },
    "tags": [
     "sample_code"
    ]
   },
   "outputs": [],
   "source": [
    "%%sql\n",
    "\n",
    "\n",
    "SELECT b.year, first_name, num \n",
    "FROM baby_names AS b\n",
    "JOIN (SELECT year, MAX(num) max_num\n",
    "        FROM baby_names\n",
    "        WHERE sex = 'M'\n",
    "        GROUP BY year) AS max_male\n",
    "ON b.year = max_male.year\n",
    "    AND b.num = max_male.max_num\n",
    "ORDER BY year DESC;"
   ]
  },
  {
   "cell_type": "markdown",
   "metadata": {
    "dc": {
     "key": "57"
    },
    "deletable": false,
    "editable": false,
    "run_control": {
     "frozen": true
    },
    "tags": [
     "context"
    ]
   },
   "source": [
    "## 8. The most years at number one\n",
    "<p>Noah and Liam have ruled the roost in the last few years, but if we scroll down in the results, it looks like Michael and Jacob have also spent a good number of years as the top name! Which name has been number one for the largest number of years? Let's use a common table expression to find out. </p>"
   ]
  },
  {
   "cell_type": "code",
   "execution_count": null,
   "metadata": {
    "dc": {
     "key": "57"
    },
    "tags": [
     "sample_code"
    ]
   },
   "outputs": [],
   "source": [
    "%%sql\n",
    "\n",
    "\n",
    "WITH top_male_names AS (\n",
    "    SELECT baby_names.year, first_name, num \n",
    "FROM baby_names\n",
    "JOIN (SELECT year, MAX(num) max_num\n",
    "        FROM baby_names AS b\n",
    "        WHERE sex = 'M'\n",
    "        GROUP BY year) AS max_male\n",
    "ON baby_names.year = max_male.year\n",
    "    AND baby_names.num = max_male.max_num\n",
    "ORDER BY year DESC)\n",
    "\n",
    "SELECT first_name, COUNT(*) count_top_name\n",
    "FROM top_male_names\n",
    "GROUP BY first_name\n",
    "ORDER BY count_top_name DESC;"
   ]
  }
 ],
 "metadata": {
  "kernelspec": {
   "display_name": "Python 3 (ipykernel)",
   "language": "python",
   "name": "python3"
  },
  "language_info": {
   "codemirror_mode": {
    "name": "ipython",
    "version": 3
   },
   "file_extension": ".py",
   "mimetype": "text/x-python",
   "name": "python",
   "nbconvert_exporter": "python",
   "pygments_lexer": "ipython3",
   "version": "3.11.7"
  }
 },
 "nbformat": 4,
 "nbformat_minor": 4
}
